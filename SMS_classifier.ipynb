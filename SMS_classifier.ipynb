{
  "cells": [
    {
      "cell_type": "code",
      "execution_count": null,
      "metadata": {
        "id": "8RZOuS9LWQvv"
      },
      "outputs": [],
      "source": [
        "# 1: Import libraries\n",
        "try:\n",
        "  # %tensorflow_version only exists in Colab.\n",
        "  !pip install tf-nightly\n",
        "except Exception:\n",
        "  pass\n",
        "import tensorflow as tf\n",
        "import pandas as pd\n",
        "from tensorflow import keras\n",
        "!pip install tensorflow-datasets\n",
        "import tensorflow_datasets as tfds\n",
        "import numpy as np\n",
        "import matplotlib.pyplot as plt\n",
        "\n",
        "print(tf.__version__)"
      ]
    },
    {
      "cell_type": "code",
      "execution_count": null,
      "metadata": {
        "id": "lMHwYXHXCar3"
      },
      "outputs": [],
      "source": [
        "# 2: Get data files\n",
        "!wget https://cdn.freecodecamp.org/project-data/sms/train-data.tsv\n",
        "!wget https://cdn.freecodecamp.org/project-data/sms/valid-data.tsv\n",
        "\n",
        "train_file_path = \"train-data.tsv\"\n",
        "test_file_path = \"valid-data.tsv\""
      ]
    },
    {
      "cell_type": "code",
      "execution_count": null,
      "metadata": {
        "id": "zOMKywn4zReN"
      },
      "outputs": [],
      "source": [
        "# 3: Load the training and testing datasets\n",
        "train_df = pd.read_csv(train_file_path, sep='\\t', names=[\"label\", \"text\"])\n",
        "test_df = pd.read_csv(test_file_path, sep='\\t', names=[\"label\", \"text\"])\n",
        "\n",
        "train_data = train_df[\"text\"]\n",
        "train_labels = train_df[\"label\"]\n",
        "\n",
        "test_data = test_df[\"text\"]\n",
        "test_labels = test_df[\"label\"]"
      ]
    },
    {
      "cell_type": "code",
      "source": [
        "# 4: Create a Tokenizer\n",
        "tokenizer = keras.preprocessing.text.Tokenizer()\n",
        "tokenizer.fit_on_texts(train_data)"
      ],
      "metadata": {
        "id": "9FJ6AmVYQNe7"
      },
      "execution_count": null,
      "outputs": []
    },
    {
      "cell_type": "code",
      "source": [
        "# 5: Convert the texts to sequences\n",
        "X_train = tokenizer.texts_to_sequences(train_data)\n",
        "X_test = tokenizer.texts_to_sequences(test_data)"
      ],
      "metadata": {
        "id": "ht6mY9-aQRJA"
      },
      "execution_count": null,
      "outputs": []
    },
    {
      "cell_type": "code",
      "source": [
        "# 6: Preprocesing: Padding the sequences to ensure uniform input size\n",
        "max_length = max([len(x) for x in X_train])  # Max length of text message\n",
        "X_train_pad = keras.preprocessing.sequence.pad_sequences(X_train, maxlen=max_length)\n",
        "X_test_pad = keras.preprocessing.sequence.pad_sequences(X_test, maxlen=max_length)"
      ],
      "metadata": {
        "id": "ExCqxv6QQRMB"
      },
      "execution_count": null,
      "outputs": []
    },
    {
      "cell_type": "code",
      "source": [
        "# 7: Convert labels to numerical format: ham -> 0, spam -> 1\n",
        "y_train = train_df['label'].map({'ham': 0, 'spam': 1}).values\n",
        "y_test = test_df['label'].map({'ham': 0, 'spam': 1}).values"
      ],
      "metadata": {
        "id": "wuDBjql4QRaK"
      },
      "execution_count": null,
      "outputs": []
    },
    {
      "cell_type": "code",
      "source": [
        "# 8: Create the neural network model\n",
        "VOCAB_SIZE = 88584\n",
        "model = tf.keras.Sequential([\n",
        "    tf.keras.layers.Embedding(VOCAB_SIZE, 32),\n",
        "    tf.keras.layers.LSTM(32, dropout=0.3, recurrent_dropout=0.3),\n",
        "    tf.keras.layers.Dense(1, activation=\"sigmoid\")\n",
        "])\n",
        "\n",
        "model.compile(loss=\"binary_crossentropy\",optimizer=\"rmsprop\",metrics=['acc'])"
      ],
      "metadata": {
        "id": "GjmIH0KkQZhE"
      },
      "execution_count": null,
      "outputs": []
    },
    {
      "cell_type": "code",
      "source": [
        "# 9: Train model (with weights to avoid bias)\n",
        "history = model.fit(X_train_pad, y_train, epochs=5, validation_split=0.2, class_weight={0: 1.0, 1: 6.5})"
      ],
      "metadata": {
        "id": "x5jvxNnqQd3i"
      },
      "execution_count": null,
      "outputs": []
    },
    {
      "cell_type": "code",
      "source": [
        "# 10: Test model performance\n",
        "results = model.evaluate(X_test_pad, y_test)\n",
        "print(results)"
      ],
      "metadata": {
        "id": "jFDR_cb-t211"
      },
      "execution_count": null,
      "outputs": []
    },
    {
      "cell_type": "code",
      "execution_count": null,
      "metadata": {
        "id": "J9tD9yACG6M9"
      },
      "outputs": [],
      "source": [
        "# 11: Function to predict messages based on model\n",
        "def predict_message(pred_text):\n",
        "    # Preprocess the input text\n",
        "    seq = tokenizer.texts_to_sequences([pred_text])\n",
        "    padded = keras.preprocessing.sequence.pad_sequences(seq, maxlen=max_length)\n",
        "\n",
        "    # Make prediction\n",
        "    prediction = model.predict(padded)[0][0]\n",
        "\n",
        "    # Return probability and label\n",
        "    label = 'ham' if prediction < 0.5 else 'spam'\n",
        "    return [prediction, label]"
      ]
    },
    {
      "cell_type": "code",
      "execution_count": null,
      "metadata": {
        "id": "Dxotov85SjsC"
      },
      "outputs": [],
      "source": [
        "# 12: Test predictions\n",
        "def test_predictions():\n",
        "  test_messages = [\"how are you doing today\",\n",
        "                   \"sale today! to stop texts call 98912460324\",\n",
        "                   \"i dont want to go. can we try it a different day? available sat\",\n",
        "                   \"our new mobile video service is live. just install on your phone to start watching.\",\n",
        "                   \"you have won £1000 cash! call to claim your prize.\",\n",
        "                   \"i'll bring it tomorrow. don't forget the milk.\",\n",
        "                   \"wow, is your arm alright. that happened to me one time too\"\n",
        "                  ]\n",
        "\n",
        "  test_answers = [\"ham\", \"spam\", \"ham\", \"spam\", \"spam\", \"ham\", \"ham\"]\n",
        "  passed = True\n",
        "\n",
        "  for msg, ans in zip(test_messages, test_answers):\n",
        "    prediction = predict_message(msg)\n",
        "    if prediction[1] != ans:\n",
        "      passed = False\n",
        "\n",
        "  if passed:\n",
        "    print(\"You passed the challenge. Great job!\")\n",
        "  else:\n",
        "    print(\"You haven't passed yet. Keep trying.\")\n",
        "\n",
        "test_predictions()"
      ]
    }
  ],
  "metadata": {
    "colab": {
      "private_outputs": true,
      "provenance": []
    },
    "kernelspec": {
      "display_name": "Python 3",
      "name": "python3"
    },
    "language_info": {}
  },
  "nbformat": 4,
  "nbformat_minor": 0
}